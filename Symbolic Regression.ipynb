{
 "cells": [
  {
   "cell_type": "markdown",
   "id": "bef26973-f0ee-4380-a775-cbd9e7aeca3d",
   "metadata": {},
   "source": [
    "# Symbolic Regression\n",
    "\n",
    "This notebook contains the code used to run a Genetic Program, from scratch for creating a regressor.\n",
    "\n",
    "The dataset used here is from the vineyard dataset\n"
   ]
  },
  {
   "cell_type": "code",
   "execution_count": 1,
   "id": "7c5e5e91-bb44-412a-bf86-68241400e007",
   "metadata": {
    "editable": true,
    "slideshow": {
     "slide_type": ""
    },
    "tags": []
   },
   "outputs": [
    {
     "name": "stdout",
     "output_type": "stream",
     "text": [
      "Defaulting to user installation because normal site-packages is not writeable\n",
      "Looking in links: /usr/share/pip-wheels\n",
      "Collecting bigtree\n",
      "  Downloading bigtree-0.25.2-py3-none-any.whl.metadata (8.9 kB)\n",
      "Collecting pydot\n",
      "  Downloading pydot-3.0.4-py3-none-any.whl.metadata (10 kB)\n",
      "Requirement already satisfied: pyparsing>=3.0.9 in /opt/conda/envs/anaconda-ai-2024.04-py310/lib/python3.10/site-packages (from pydot) (3.0.9)\n",
      "Downloading bigtree-0.25.2-py3-none-any.whl (94 kB)\n",
      "\u001b[2K   \u001b[38;5;70m━━━━━━━━━━━━━━━━━━━━━━━━━━━━━━━━━━━━━━━━\u001b[0m \u001b[32m94.8/94.8 kB\u001b[0m \u001b[31m1.4 MB/s\u001b[0m eta \u001b[36m0:00:00\u001b[0m9.2 MB/s\u001b[0m eta \u001b[36m0:00:01\u001b[0m\n",
      "\u001b[?25hDownloading pydot-3.0.4-py3-none-any.whl (35 kB)\n",
      "Installing collected packages: pydot, bigtree\n",
      "Successfully installed bigtree-0.25.2 pydot-3.0.4\n",
      "Note: you may need to restart the kernel to use updated packages.\n"
     ]
    }
   ],
   "source": [
    "pip install bigtree pydot"
   ]
  },
  {
   "cell_type": "code",
   "execution_count": 1,
   "id": "b53969b0-be68-485e-8ea2-5ca917b7a677",
   "metadata": {},
   "outputs": [],
   "source": [
    "#limit my CPU\n",
    "import resource\n",
    "\n",
    "# Set soft and hard limits for CPU time (in seconds)\n",
    "soft_limit = 3600  # 1 hour\n",
    "hard_limit = 7200  # 2 hours\n",
    "resource.setrlimit(resource.RLIMIT_CPU, (soft_limit, hard_limit))"
   ]
  },
  {
   "cell_type": "code",
   "execution_count": 2,
   "id": "01343fe9-6fc2-4b86-8e10-f4d9b8189d00",
   "metadata": {},
   "outputs": [],
   "source": [
    "#importing necessary packages, pandas for reading in data, matplotlib for plotting the results\n",
    "import pandas as pd\n",
    "import matplotlib.pyplot as plt\n",
    "import math\n",
    "import random\n",
    "import statistics\n",
    "import builtins\n",
    "from bigtree import tree_to_dot \n",
    "import time"
   ]
  },
  {
   "cell_type": "markdown",
   "id": "67273556-ca40-4807-b5b2-b4d41952821d",
   "metadata": {},
   "source": [
    "## Reading in data"
   ]
  },
  {
   "cell_type": "code",
   "execution_count": 3,
   "id": "dfb48102-b2de-4b81-bda4-2f5996f74643",
   "metadata": {
    "jupyter": {
     "source_hidden": true
    }
   },
   "outputs": [
    {
     "name": "stdout",
     "output_type": "stream",
     "text": [
      "   row_number  lugs_1989  lugs_1990  lugs_1991\n",
      "0           1        1.0        5.0        9.5\n",
      "1           2        3.0        8.0       17.5\n",
      "2           3        3.0       11.0       18.0\n",
      "3           4        3.0        9.0       20.0\n",
      "4           5        5.0        9.5       20.5\n",
      "    row_number  lugs_1989  lugs_1990  lugs_1991\n",
      "51          52        0.0        2.5        2.5\n",
      "41          42        1.5       10.0       15.0\n",
      "39          40        2.0       10.0       16.0\n",
      "23          24        4.0       13.0       22.0\n",
      "7            8        4.5       10.0       21.0\n",
      "    row_number  lugs_1989  lugs_1990  lugs_1991\n",
      "1            2        3.0        8.0       17.5\n",
      "4            5        5.0        9.5       20.5\n",
      "9           10        5.0       10.0       26.0\n",
      "10          11        6.0       11.0       20.0\n",
      "11          12        5.0       10.0       23.0\n"
     ]
    }
   ],
   "source": [
    "#reading in the dataset from the vineyard csv file\n",
    "dataset = pd.read_csv(\"dataset_2178_vineyard.csv\")\n",
    "#dropping duplicates\n",
    "dataset = dataset.drop_duplicates()\n",
    "#print datasets before splitting\n",
    "print(dataset.head())\n",
    "\n",
    "#splitting data into training and testing sets\n",
    "train_dataset= dataset.sample(frac=0.7, random_state=6)\n",
    "test_dataset= dataset.drop(train_dataset.index)\n",
    "#printing datasets to ensure it is correctly stored :)\n",
    "print(train_dataset.head())\n",
    "print(test_dataset.head())\n"
   ]
  },
  {
   "cell_type": "markdown",
   "id": "27f3490e-07f6-4029-bfcd-bc93839ba21e",
   "metadata": {},
   "source": [
    "# Initializing parameters"
   ]
  },
  {
   "cell_type": "code",
   "execution_count": 4,
   "id": "e19640c9-3a67-44da-81b7-91f4309e18b2",
   "metadata": {
    "scrolled": true
   },
   "outputs": [
    {
     "name": "stdout",
     "output_type": "stream",
     "text": [
      "    lugs_1989  lugs_1990\n",
      "51        0.0        2.5\n",
      "41        1.5       10.0\n",
      "39        2.0       10.0\n",
      "23        4.0       13.0\n",
      "7         4.5       10.0\n",
      "51    0.0\n",
      "41    1.5\n",
      "39    2.0\n",
      "23    4.0\n",
      "7     4.5\n",
      "Name: lugs_1989, dtype: float64\n",
      "51     2.5\n",
      "41    10.0\n",
      "39    10.0\n",
      "23    13.0\n",
      "7     10.0\n",
      "Name: lugs_1990, dtype: float64\n",
      "51     2.5\n",
      "41    15.0\n",
      "39    16.0\n",
      "23    22.0\n",
      "7     21.0\n",
      "Name: lugs_1991, dtype: float64\n",
      "    lugs_1989  lugs_1990\n",
      "1         3.0        8.0\n",
      "4         5.0        9.5\n",
      "9         5.0       10.0\n",
      "10        6.0       11.0\n",
      "11        5.0       10.0\n",
      "1     3.0\n",
      "4     5.0\n",
      "9     5.0\n",
      "10    6.0\n",
      "11    5.0\n",
      "Name: lugs_1989, dtype: float64\n",
      "1      8.0\n",
      "4      9.5\n",
      "9     10.0\n",
      "10    11.0\n",
      "11    10.0\n",
      "Name: lugs_1990, dtype: float64\n",
      "1     17.5\n",
      "4     20.5\n",
      "9     26.0\n",
      "10    20.0\n",
      "11    23.0\n",
      "Name: lugs_1991, dtype: float64\n",
      "Index([51, 41, 39, 23,  7,  0,  6, 34, 14, 32, 50, 24, 19,  3, 30, 29, 43, 31,\n",
      "       36, 17, 21, 28, 40, 18, 22, 44, 46, 38,  5, 49, 27, 48, 12,  2,  8, 37],\n",
      "      dtype='int64')\n",
      "Index([1, 4, 9, 10, 11, 13, 15, 16, 20, 25, 26, 33, 35, 42, 45, 47], dtype='int64')\n"
     ]
    }
   ],
   "source": [
    "#initializing the training sets \n",
    "X_train = train_dataset[[\"lugs_1989\",\"lugs_1990\"]]\n",
    "x1_train = train_dataset[\"lugs_1989\"]\n",
    "x2_train = train_dataset[\"lugs_1990\"]\n",
    "y_target_train = train_dataset[\"lugs_1991\"]\n",
    "\n",
    "#print heads to make sure it is initiated correctly\n",
    "print(X_train.head())\n",
    "print(x1_train.head())\n",
    "print(x2_train.head())\n",
    "print(y_target_train.head())\n",
    "\n",
    "#initializing the testing sets\n",
    "X_test= test_dataset[[\"lugs_1989\",\"lugs_1990\"]]\n",
    "x1_test = test_dataset[\"lugs_1989\"]\n",
    "x2_test = test_dataset[\"lugs_1990\"]\n",
    "y_target_test = test_dataset[\"lugs_1991\"]\n",
    "\n",
    "#print heads to make sure it is initiated correctly\n",
    "print(X_test.head())\n",
    "print(x1_test.head())\n",
    "print(x2_test.head())\n",
    "print(y_target_test.head())\n",
    "\n",
    "#i had to retrieve the indices due to the key7 error\n",
    "index_train = X_train.index\n",
    "index_test = X_test.index\n",
    "print(index_train)\n",
    "print(index_test)\n"
   ]
  },
  {
   "cell_type": "markdown",
   "id": "5e943b74-046a-4fc2-9775-54a9b7fea6e1",
   "metadata": {},
   "source": [
    "## Initial Population Generation\n",
    "\n",
    "The initial population will be generated using the growth method with initial tree depth of 2, with a limit of two trees created by the genetic operators"
   ]
  },
  {
   "cell_type": "code",
   "execution_count": 5,
   "id": "e9e38639-6d96-43ca-9694-3797a29b6b6a",
   "metadata": {
    "editable": true,
    "slideshow": {
     "slide_type": ""
    },
    "tags": []
   },
   "outputs": [],
   "source": [
    "def growth_method(depth = 0):\n",
    "    ##if the depth of the tree is reached put a terminal set\n",
    "    if depth == max_depth:\n",
    "        return random.choice(terminal)\n",
    "    #root must be from the functional set\n",
    "    elif depth == 0:\n",
    "        node = random.choice(functional)\n",
    "    else:\n",
    "        #pick from a functional or a terminal set\n",
    "        node = random.choice(functional + terminal)\n",
    "    ##recursively grow tree if there is a root\n",
    "        # If the node is a functional node, recursively grow the tree\n",
    "    if node in functional:\n",
    "        # Ensure operators like '-', '/', '**' have exactly 2 operands\n",
    "        if node in ['-', '/', '**']:\n",
    "            return [node, growth_method(depth + 1), growth_method(depth + 1)]\n",
    "        # Allow operators like '+', '*' to have 2 or more operands\n",
    "        elif node in ['+', '*']:\n",
    "            num_operands = random.randint(2, 3)  # Adjust as needed\n",
    "            return [node] + [growth_method(depth + 1) for _ in range(num_operands)]\n",
    "        else:\n",
    "            # Handle other operators (if any)\n",
    "            return [node, growth_method(depth + 1), growth_method(depth + 1)]\n",
    "    else :\n",
    "        return node\n",
    "\n",
    "def init_pop (population_size):\n",
    "    pop = [growth_method() for _ in range(population_size)]\n",
    "    return pop\n",
    "\n",
    "def evaluate(expression, x1, x2, constant):\n",
    "    # Base case: if the expression is a number or constant, return it\n",
    "    if isinstance(expression, (int, float)):\n",
    "        return expression\n",
    "    # If the expression is 'x1', return the value of x1\n",
    "    if expression == 'x1':\n",
    "        return x1\n",
    "    # If the expression is 'x2', return the value of x2\n",
    "    if expression == 'x2':\n",
    "        return x2\n",
    "    # If the expression is 'constant', return the constant\n",
    "    if expression == 'c':\n",
    "        return constant\n",
    "    \n",
    "    # Recursive case: if the expression is a list, evaluate it\n",
    "    if isinstance(expression, list):\n",
    "        operator = expression[0]  # The first element is the operator\n",
    "        operands = expression[1:]  # The rest are operands\n",
    "        \n",
    "        # Evaluate each operand recursively\n",
    "        evaluated_operands = [evaluate(op, x1, x2, constant) for op in operands]\n",
    "        \n",
    "        # Perform the operation\n",
    "        if operator == '+':\n",
    "            return sum(evaluated_operands)\n",
    "        elif operator == '*':\n",
    "            result = 1\n",
    "            for op in evaluated_operands:\n",
    "                # Check for invalid values\n",
    "                if not isinstance(op, (int, float)):\n",
    "                    return 1  # Default value for invalid operands\n",
    "                result *= op\n",
    "            return result\n",
    "        elif operator == '-':\n",
    "            return evaluated_operands[0] - evaluated_operands[1]\n",
    "        elif operator == '**':\n",
    "            if len(evaluated_operands) != 2:\n",
    "                return 1\n",
    "            base, exponent = evaluated_operands[0], evaluated_operands[1]\n",
    "            # Handle edge cases for exponentiation\n",
    "            if base == 0 and exponent < 0:\n",
    "                return 1  # Default value for 0 ** negative exponent\n",
    "                try:\n",
    "                    return base ** exponent\n",
    "                except (OverflowError, ValueError):\n",
    "                    return 1  # Default value for overflow or invalid operations\n",
    "            else:\n",
    "                return evaluated_operands[0] ** evaluated_operands[1]\n",
    "        elif operator == '/':\n",
    "            if evaluated_operands[1] == 0:\n",
    "                return 1\n",
    "            return evaluated_operands[0] / evaluated_operands[1]\n",
    "        else:\n",
    "            raise ValueError(f\"Unknown operator: {operator}\")\n",
    "    \n",
    "    # If the expression is not recognized, raise an error\n",
    "    raise ValueError(f\"Invalid expression: {expression}\")\n"
   ]
  },
  {
   "cell_type": "markdown",
   "id": "2af522b7-3140-4d08-81ee-bd0d103dcae1",
   "metadata": {
    "editable": true,
    "slideshow": {
     "slide_type": ""
    },
    "tags": []
   },
   "source": [
    "## Fitness Function\n",
    "\n",
    "Calculating the fitness function "
   ]
  },
  {
   "cell_type": "code",
   "execution_count": 33,
   "id": "7452830f-fe94-4c90-8f4b-e2495128f15c",
   "metadata": {
    "editable": true,
    "slideshow": {
     "slide_type": ""
    },
    "tags": []
   },
   "outputs": [],
   "source": [
    "#implementing regularization\n",
    "def getting_leafs(equation):\n",
    "    #to reduce complexity, check how long the tree is\n",
    "    if isinstance(equation, list):\n",
    "        return 1 + sum(getting_leafs(eq) for eq in equation)\n",
    "    else:\n",
    "        return 1\n",
    "\n",
    "#fitness function\n",
    "def fitness_fun(y_pred, y_target, index, tolerance, regulation, equation):\n",
    "    n = len(y_target) #the number of values in the dataset\n",
    "    summation = 0 #storing the  the summation\n",
    "    i = 0\n",
    "    for ind in index: #calculation of the summation\n",
    "        diff = y_pred[i] - y_target[ind]\n",
    "        absolute = abs(diff)\n",
    "        summation = summation + absolute\n",
    "        i+=1\n",
    "    MAE = summation / n\n",
    "    #calculating the hits criterion\n",
    "    hits = 0\n",
    "    for ypred, yhat in zip(y_pred,y_target):\n",
    "        if abs(ypred - yhat) <= tolerance * abs(ypred):\n",
    "            hits += 1\n",
    "    hits_rate = hits / len(y_target)\n",
    "    #calculating the regularization\n",
    "    penalty = getting_leafs(equation)\n",
    "    MAE = MAE \n",
    "    return MAE"
   ]
  },
  {
   "cell_type": "markdown",
   "id": "9660f3b8-0419-47cf-b248-c0fa9a7e94fd",
   "metadata": {},
   "source": [
    "## Selection Method:\n",
    "\n",
    "The selection method used to find the the most fit parents is Tournament selection with a tournament score of 3"
   ]
  },
  {
   "cell_type": "code",
   "execution_count": 34,
   "id": "1bfd956a-36e0-4309-be08-c4858deadfa6",
   "metadata": {
    "editable": true,
    "slideshow": {
     "slide_type": ""
    },
    "tags": []
   },
   "outputs": [],
   "source": [
    "def tournament(population, fitness_scores, tournament_size, num_ind,):\n",
    "    #selecting values of the tournament score\n",
    "    combined = [[x, y] for x, y in zip(population, fitness_scores)]\n",
    "    selected_parent= []\n",
    "    for i in range(num_ind):\n",
    "        selection = random.sample(combined , tournament_size)\n",
    "        #select the best individual which is the smallest MSE\n",
    "        if selection[i][1] > selection[i+1][1]:\n",
    "            indx = combined.index(selection[i+1])\n",
    "            selected_parent = selected_parent + population[indx]\n",
    "        else:\n",
    "            indx = combined.index(selection[i])\n",
    "            selected_parent = selected_parent + population[indx]    \n",
    "    return selected_parent"
   ]
  },
  {
   "cell_type": "markdown",
   "id": "6dd5fe06-6cc6-44e4-8b24-4a0ec23b18ff",
   "metadata": {},
   "source": [
    "## Mutation and Cross-over Genetic Operators\n",
    "\n",
    "With 60% of the population being reproduced using cross-over and 40% using mutation genetic operators"
   ]
  },
  {
   "cell_type": "code",
   "execution_count": 35,
   "id": "1ab6313a-e2c2-4bb3-b10a-b2c266e8c5ff",
   "metadata": {
    "editable": true,
    "slideshow": {
     "slide_type": ""
    },
    "tags": []
   },
   "outputs": [],
   "source": [
    "def crossover(parent1, parent2, probability):\n",
    "    if random.uniform(0,1) < probability:\n",
    "        #Choose a random integer that will represent a random point in the tree\n",
    "        length = len(parent1) - 1\n",
    "        point = random.randint(1, length)\n",
    "        #Create offspring\n",
    "        child1 = parent1[:point] + parent2[point:]\n",
    "        child2 = parent2[:point] + parent1[point:]\n",
    "        return child1,child2\n",
    "    else:\n",
    "        return parent1, parent2 #if crossover didn't occur"
   ]
  },
  {
   "cell_type": "code",
   "execution_count": 36,
   "id": "ef9ed438-dc40-4552-a00d-2677c943273f",
   "metadata": {
    "editable": true,
    "slideshow": {
     "slide_type": ""
    },
    "tags": []
   },
   "outputs": [],
   "source": [
    "def mutation(parent, probability):\n",
    "    if random.uniform(0,1) < probability:\n",
    "        #Choose a random integer that will represent a random point in the tree\n",
    "        length = len(parent1) - 1\n",
    "        point = random.randint(1, length)\n",
    "        #generate a random subtree\n",
    "        if point < len(parent) and parent[point] in functional:\n",
    "            subtree = random.choice(terminal)\n",
    "        else:\n",
    "            sub_tree = growth_method(depth=1)\n",
    "        new_parent = parent[:point] + [sub_tree] + parent[point+1:]\n",
    "        return new_parent\n",
    "    else :\n",
    "        return parent # if mutation didn't occur"
   ]
  },
  {
   "cell_type": "markdown",
   "id": "982a2fb0-d75d-4a35-b291-7e56184987f5",
   "metadata": {
    "editable": true,
    "slideshow": {
     "slide_type": ""
    },
    "tags": []
   },
   "source": [
    "# Calling functions"
   ]
  },
  {
   "cell_type": "code",
   "execution_count": null,
   "id": "921c0169-5b30-4364-9bde-05c3f92343f1",
   "metadata": {
    "editable": true,
    "scrolled": true,
    "slideshow": {
     "slide_type": ""
    },
    "tags": []
   },
   "outputs": [
    {
     "name": "stdout",
     "output_type": "stream",
     "text": [
      "Seed now is:  3\n",
      "2\n"
     ]
    }
   ],
   "source": [
    "#initializing the terminal and functional sets, with the initial tree depth of 2 and the limit of two trees made by the genetic operators\n",
    "#seed = random.randint(0,15)\n",
    "#print(\"Seed now is: \", seed)\n",
    "random.seed(seed)\n",
    "constant = 2\n",
    "print(constant)\n",
    "terminal = [\"x1\", \"x2\",\"c\"]\n",
    "functional = [\"+\",\"-\",\"*\",\"/\"]\n",
    "\n",
    "#calling the functions\n",
    "population_size = 500\n",
    "mutation_percentage = 0.15\n",
    "crossover_percentage = 0.8\n",
    "generations = 52\n",
    "max_depth = 3\n",
    "tolerance = 0.05\n",
    "regulation = 0.05\n",
    "reproduction_rate = 0.5\n",
    "\n",
    "#having a first population\n",
    "first_population = init_pop(population_size)\n",
    "\n",
    "#to store the new population at every generation\n",
    "curr_pop = first_population \n",
    "#collect all the fitness scores for each generation mainly for the histogram\n",
    "gen_fitness_score=[]\n",
    "#clean out the array for the new population\n",
    "new_pop = []\n",
    "for gen in range(generations):\n",
    "    # to store the fitness score of each individual in the population for the selection process\n",
    "    fit_score = []\n",
    "    #to store the predicted Y value so i can calculate the fitness function of the generation\n",
    "    y_pred = []\n",
    "    #to combine the population with its fitness scores\n",
    "    combined = []\n",
    "    #Evaluate the fitness scores of each\n",
    "    for i in range(len(curr_pop)):\n",
    "        equation = curr_pop[i]\n",
    "        #get predicted Y value for the training datasets\n",
    "        temp_ypred = [] #temporary list for this equation\n",
    "        for indx in index_train:\n",
    "            y_predict = evaluate(equation,x1 = x1_train[indx],x2 = x2_train[indx],constant= constant) \n",
    "            temp_ypred.append(y_predict)\n",
    "        fitness_score = fitness_fun(temp_ypred, y_target_train, index_train, tolerance,regulation,equation)\n",
    "        fit_score.append(fitness_score)\n",
    "    #for reproduction/ elitism\n",
    "    sorted = builtins.sorted #had to overwrite wasn't working on its own\n",
    "    combined = [[x, y] for x, y in zip(curr_pop, fit_score)]\n",
    "    #sorting\n",
    "    sorted_pop= sorted(combined, key=lambda x: x[1])\n",
    "    #getting the amount of individuals to keep\n",
    "    num_individuals = int(reproduction_rate * len(curr_pop))\n",
    "    best_individuals = []\n",
    "    for i in range(num_individuals):\n",
    "        best_individuals.append(sorted_pop[i][0])\n",
    "    new_pop = best_individuals.copy()\n",
    "    #troubleshooting Nan or infinite trees\n",
    "    for f in range(len(fit_score)):\n",
    "        if math.isnan(fit_score[f]) or math.isinf(fit_score[f]):\n",
    "            #assigning them the worst fitness\n",
    "            fit_score[f] = float(5000) \n",
    "    while len(new_pop) < len(curr_pop):\n",
    "        #Selection using tournament selection\n",
    "        parent1 = tournament(curr_pop, fit_score, tournament_size = 3 , num_ind = 1)\n",
    "        parent2 = tournament(curr_pop, fit_score, tournament_size = 3, num_ind = 1)\n",
    "        #getting fitness for parents\n",
    "        y_p1 = []\n",
    "        y_p2 = []\n",
    "        for indx in index_train:\n",
    "            y_pred_p1 = evaluate(parent1,x1 = x1_train[indx],x2 = x2_train[indx],constant= constant)\n",
    "            y_pred_p2 = evaluate(parent2,x1 = x1_train[indx],x2 = x2_train[indx],constant= constant)\n",
    "            y_p1.append(y_pred_p1)\n",
    "            y_p2.append(y_pred_p2)\n",
    "        parent1_fit = fitness_fun(y_p1, y_target_train, index_train, tolerance,regulation,equation)\n",
    "        parent2_fit = fitness_fun(y_p2, y_target_train, index_train, tolerance,regulation,equation)\n",
    "        #Create a crossover with the rate of 60%\n",
    "        #child1 = crossover(parent1, parent2,crossover_percentage)\n",
    "        children = crossover(parent1,parent2,crossover_percentage)\n",
    "        child1 = children[0]\n",
    "        child2 = children[1]\n",
    "        #making the the crossover strict\n",
    "        y_child1 = []\n",
    "        y_child2 = []\n",
    "        for indx in index_train:\n",
    "            y_pred_c1 = evaluate(child1,x1 = x1_train[indx],x2 = x2_train[indx],constant= constant)\n",
    "            y_pred_c2 = evaluate(child2,x1 = x1_train[indx],x2 = x2_train[indx],constant= constant)\n",
    "            y_child1.append(y_pred_c1)\n",
    "            y_child2.append(y_pred_c2)\n",
    "        child1_fit = fitness_fun(y_child1, y_target_train, index_train, tolerance,regulation,equation)\n",
    "        child2_fit = fitness_fun(y_child2, y_target_train, index_train, tolerance,regulation,equation)\n",
    "        if child1_fit > parent1_fit and child1_fit > 0:#and child1_fit > parent2_fit:\n",
    "            children = crossover(parent1,parent2,crossover_percentage)\n",
    "            child1 = children[0]\n",
    "            child2 = child2\n",
    "        elif child2_fit > parent2_fit and child2_fit > 0: #and child2_fit > parent1_fit:\n",
    "            children = crossover(parent1,parent2,crossover_percentage)\n",
    "            child1 = child1\n",
    "            child2 = children[1]\n",
    "        else:\n",
    "            child1 = child1\n",
    "            child2 = child2\n",
    "        #Create mutation with a mutation rate of 40%\n",
    "        child1 = mutation(child1,mutation_percentage)\n",
    "        child2 = mutation(child2, mutation_percentage)\n",
    "        mut_c1_y = []\n",
    "        mut_c2_y = []\n",
    "        #creating a strict mutation\n",
    "        for indx in index_train:\n",
    "            y_pred_mc1 = evaluate(child1,x1 = x1_train[indx],x2 = x2_train[indx],constant= constant)\n",
    "            y_pred_mc2 = evaluate(child2,x1 = x1_train[indx],x2 = x2_train[indx],constant= constant)\n",
    "            mut_c1_y.append(y_pred_mc1)\n",
    "            mut_c2_y.append(y_pred_mc2)\n",
    "        child1_mfit = fitness_fun(mut_c1_y, y_target_train, index_train, tolerance,regulation,equation)\n",
    "        child2_mfit = fitness_fun(mut_c2_y, y_target_train, index_train, tolerance,regulation,equation)\n",
    "        if child1_mfit > parent1_fit and child1_fit > 0:#and child1_fit > parent2_fit:\n",
    "            children = crossover(parent1,parent2,crossover_percentage)\n",
    "            child1 = children[0]\n",
    "            child2 = child2\n",
    "        elif child2_mfit > parent2_fit and child2_fit > 0: #and child2_fit > parent1_fit:\n",
    "            children = crossover(parent1,parent2,crossover_percentage)\n",
    "            child1 = child1\n",
    "            child2 = children[1]\n",
    "        else:\n",
    "            child1 = child1\n",
    "            child2 = child2\n",
    "        new_pop.append(child1)\n",
    "        new_pop.append(child2)\n",
    "    aver= sum(fit_score)/len(fit_score)\n",
    "    gen_fitness_score.append(aver)\n",
    "    #replace population with new offspring\n",
    "    curr_pop = new_pop[:population_size]\n",
    "print(\"----------------------------------------------------------------------------\")\n",
    "print(\"-------------Best Predicted Equation----------------------------------------\")\n",
    "# trying to find the best from the last generation to check the best equation\n",
    "final_pop_fits = []\n",
    "for i in range(len(curr_pop)):\n",
    "    equation = curr_pop[i]\n",
    "    #get predicted Y value for the training datasets\n",
    "    ypred = [] #temporary list for this equation\n",
    "    for indx in index_train:\n",
    "        y_predict = evaluate(equation,x1 = x1_train[indx],x2 = x2_train[indx],constant= constant) \n",
    "        ypred.append(y_predict)\n",
    "    fitness_score = fitness_fun(ypred, y_target_train, index_train, tolerance,regulation,equation)\n",
    "    final_pop_fits.append(fitness_score)\n",
    "#getting equation from the last population\n",
    "#checks for the smallest fitness score\n",
    "best_fitted = min(final_pop_fits) \n",
    "#gets the index of that fitness score\n",
    "best_index = fit_score.index(best_fitted)\n",
    "#find the equation\n",
    "best_equation = curr_pop[best_index]\n",
    "print(\"MAE: \", best_fitted)\n",
    "print(best_equation)\n",
    "\n",
    "average = sum(final_pop_fits)/len(final_pop_fits)\n",
    "#appending for the last generations fitness scores\n",
    "gen_fitness_score.append(average)"
   ]
  },
  {
   "cell_type": "markdown",
   "id": "788043ce-b6a3-43fe-86f9-43da6e4aa880",
   "metadata": {},
   "source": [
    "## Plotting graphs"
   ]
  },
  {
   "cell_type": "code",
   "execution_count": 58,
   "id": "bcb4ff67-3f5b-4c44-acd7-ea26af784e65",
   "metadata": {
    "scrolled": true
   },
   "outputs": [
    {
     "data": {
      "image/png": "[encoded data removed]",
      "text/plain": [
       "<Figure size 640x480 with 1 Axes>"
      ]
     },
     "metadata": {},
     "output_type": "display_data"
    }
   ],
   "source": [
    "plt.plot(gen_fitness_score, marker='o')\n",
    "plt.xlabel(\"Generation\")\n",
    "plt.ylabel(\"Fitness Score \")\n",
    "plt.title(\"Fitness Score Over Generations\")\n",
    "plt.grid()\n",
    "plt.show()"
   ]
  },
  {
   "cell_type": "markdown",
   "id": "968dd79c-2935-496b-b59d-7defd88bf52c",
   "metadata": {},
   "source": [
    "# Testing the given equation\n",
    "\n"
   ]
  },
  {
   "cell_type": "code",
   "execution_count": 62,
   "id": "c8aa9d14-f763-45fb-839c-1f34ee3479c7",
   "metadata": {},
   "outputs": [
    {
     "name": "stdout",
     "output_type": "stream",
     "text": [
      "MAE:  3.59375\n",
      "Average:  16.95\n",
      "Standard Dev: 0.0\n"
     ]
    }
   ],
   "source": [
    "##Testing the equation\n",
    "test_fitness_score = []\n",
    "ypred_test = []\n",
    "for indx in index_test:\n",
    "    y_pred_test = evaluate(best_equation,x1 = x1_test[indx],x2 = x2_test[indx],constant= constant) \n",
    "    ypred_test.append(y_predict)\n",
    "average =statistics.mean(ypred_test)\n",
    "deviation =statistics.stdev(ypred_test)\n",
    "fitness_score_test = fitness_fun(ypred_test, y_target_test, index_test, tolerance, regulation,best_equation)\n",
    "\n",
    "print(\"MAE: \",fitness_score_test)\n",
    "print(\"Average: \",average)\n",
    "print(\"Standard Dev:\", deviation)"
   ]
  },
  {
   "cell_type": "code",
   "execution_count": null,
   "id": "38873f07-7250-4f31-bdf2-c905ddda07e4",
   "metadata": {},
   "outputs": [],
   "source": []
  }
 ],
 "metadata": {
  "kernelspec": {
   "display_name": "anaconda-ai-2024.04-py310",
   "language": "python",
   "name": "conda-env-anaconda-ai-2024.04-py310-py"
  },
  "language_info": {
   "codemirror_mode": {
    "name": "ipython",
    "version": 3
   },
   "file_extension": ".py",
   "mimetype": "text/x-python",
   "name": "python",
   "nbconvert_exporter": "python",
   "pygments_lexer": "ipython3",
   "version": "3.10.13"
  }
 },
 "nbformat": 4,
 "nbformat_minor": 5
}
